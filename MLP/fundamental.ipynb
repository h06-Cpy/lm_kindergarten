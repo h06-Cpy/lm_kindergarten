{
 "cells": [
  {
   "cell_type": "markdown",
   "metadata": {},
   "source": [
    "# 파라미터와 하이퍼파라미터\n",
    "- `parameter`: 모델이 학습하면서 경사하강법으로 값을 바꾸는 부분\n",
    "    - weight(가중치)\n",
    "    - bias(편향)   \n",
    "    ...\n",
    "- `hyperparameter`: 사람이 정해주는 부분\n",
    "    - context length\n",
    "    - 레이어 개수\n",
    "    - 레이어 당 뉴런 개수\n",
    "    - 활성화 함수 종류   \n",
    "    ..."
   ]
  },
  {
   "cell_type": "markdown",
   "metadata": {},
   "source": [
    "# 토큰\n",
    "> 언어 모델이 다루는 입출력 단위\n",
    "\n",
    "- 저희 수업에서는 알파벳 한글자(`a`~`z`)가 한 토큰입니다.   \n",
    "- 요즘 모델(LLM)들은 더 큰 덩어리가 한 토큰입니다. (`hello`, `안녕` 등)   \n",
    "- 특별한 뜻을 담은 스페셜 토큰도 있죠! (`문장의 시작`, `문장의 끝` 등)"
   ]
  },
  {
   "cell_type": "markdown",
   "metadata": {},
   "source": [
    "# Vocabulary\n",
    "> 언어 모델이 가진 토큰 집합 (어휘집)   \n",
    "\n",
    "지난 시간에 만들었던 `itos`, `stoi`입니다.\n",
    "\n",
    "```\n",
    "{1: 'a',\n",
    " 2: 'b',\n",
    " 3: 'c',\n",
    " 4: 'd',\n",
    " 5: 'e',\n",
    " 6: 'f',\n",
    " 7: 'g',\n",
    " 8: 'h',\n",
    " 9: 'i',\n",
    " 10: 'j',\n",
    " 11: 'k',\n",
    " 12: 'l',\n",
    " 13: 'm',\n",
    " 14: 'n',\n",
    " 15: 'o',\n",
    " 16: 'p',\n",
    " 17: 'q',\n",
    " 18: 'r',\n",
    " 19: 's',\n",
    " 20: 't',\n",
    " 21: 'u',\n",
    " 22: 'v',\n",
    " 23: 'w',\n",
    " 24: 'x',\n",
    " 25: 'y',\n",
    " 26: 'z',\n",
    " 0: '.'}\n",
    "```\n",
    "(27개)\n",
    "\n",
    "요즘 모델들은 10,000개 이상의 더 큰 vocab을 가집니다. "
   ]
  },
  {
   "cell_type": "markdown",
   "metadata": {},
   "source": [
    "# torch broadcasting\n",
    "> 특정 연산에서 텐서 모양이 달라도 맞춰줌\n",
    "\n",
    "- 덧셈, 뺄셈\n",
    "- 원소간 곱셈, 나눗셈"
   ]
  },
  {
   "cell_type": "code",
   "execution_count": 1,
   "metadata": {},
   "outputs": [],
   "source": [
    "import torch"
   ]
  },
  {
   "cell_type": "code",
   "execution_count": 2,
   "metadata": {},
   "outputs": [
    {
     "data": {
      "text/plain": [
       "(tensor([1, 2, 3]), tensor([4]))"
      ]
     },
     "execution_count": 2,
     "metadata": {},
     "output_type": "execute_result"
    }
   ],
   "source": [
    "a = torch.tensor([1,2,3])\n",
    "b = torch.tensor([4])\n",
    "a,b"
   ]
  },
  {
   "cell_type": "code",
   "execution_count": 3,
   "metadata": {},
   "outputs": [
    {
     "data": {
      "text/plain": [
       "tensor([5, 6, 7])"
      ]
     },
     "execution_count": 3,
     "metadata": {},
     "output_type": "execute_result"
    }
   ],
   "source": [
    "a + b # 4를 복제함 -> [1+4, 2+4, 3+4]"
   ]
  },
  {
   "cell_type": "code",
   "execution_count": null,
   "metadata": {},
   "outputs": [
    {
     "data": {
      "text/plain": [
       "tensor([ 4,  8, 12])"
      ]
     },
     "execution_count": 4,
     "metadata": {},
     "output_type": "execute_result"
    },
    {
     "ename": "",
     "evalue": "",
     "output_type": "error",
     "traceback": [
      "\u001b[1;31mThe Kernel crashed while executing code in the current cell or a previous cell. \n",
      "\u001b[1;31mPlease review the code in the cell(s) to identify a possible cause of the failure. \n",
      "\u001b[1;31mClick <a href='https://aka.ms/vscodeJupyterKernelCrash'>here</a> for more info. \n",
      "\u001b[1;31mView Jupyter <a href='command:jupyter.viewOutput'>log</a> for further details."
     ]
    }
   ],
   "source": [
    "a * b # 4를 복제함 -> [1*4, 2*4, 3*4]"
   ]
  }
 ],
 "metadata": {
  "kernelspec": {
   "display_name": "base",
   "language": "python",
   "name": "python3"
  },
  "language_info": {
   "codemirror_mode": {
    "name": "ipython",
    "version": 3
   },
   "file_extension": ".py",
   "mimetype": "text/x-python",
   "name": "python",
   "nbconvert_exporter": "python",
   "pygments_lexer": "ipython3",
   "version": "3.12.4"
  }
 },
 "nbformat": 4,
 "nbformat_minor": 2
}
